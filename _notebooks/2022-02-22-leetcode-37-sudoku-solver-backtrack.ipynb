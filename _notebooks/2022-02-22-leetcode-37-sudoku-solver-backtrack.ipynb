{
 "cells": [
  {
   "cell_type": "markdown",
   "metadata": {},
   "source": [
    "# \"LeetCode 37 - Sudoku Solver: Backtracking\"\n",
    "\n",
    "- toc: false\n",
    "- badges: true\n",
    "- categories: [coding, python, leetcode, backtrack, DFS]\n",
    "- comments: true"
   ]
  },
  {
   "cell_type": "markdown",
   "metadata": {},
   "source": [
    "The LeetCode problem [Sudoku Solver](https://leetcode.com/problems/sudoku-solver/) is a classic backtracking problem.\n",
    "\n",
    "According to [wikipedia](https://en.wikipedia.org/wiki/Backtracking):\n",
    "\n",
    "> Backtracking incrementally builds candidates to the solutions, and abandons a candidate (\"backtracks\") as soon as it determines that the candidate cannot possibly be completed to a valid solution.\n",
    "\n",
    "*`Cannot possibly be completed to a valid solution`* means there are some constraints that the candidate cannot satisfy. Therefore, those kind of problems are often called **constraint satisfaction problems**.\n",
    "\n",
    "For example, in a Sudoku problem, we have following constraints that must be satisfied:\n",
    "\n",
    "- Each of the digits 1-9 must occur exactly once in each row.\n",
    "\n",
    "- Each of the digits 1-9 must occur exactly once in each column.\n",
    "\n",
    "- Each of the digits 1-9 must occur exactly once in each of the 9 3x3 sub-boxes of the grid."
   ]
  },
  {
   "cell_type": "markdown",
   "metadata": {},
   "source": [
    "To check those three constraints, we construct three corresponding two-dimensional list as follows:"
   ]
  },
  {
   "cell_type": "code",
   "execution_count": 5,
   "metadata": {},
   "outputs": [],
   "source": [
    "rows_available_list = [[True] * 9 for i in range(9)]\n",
    "cols_available_list = [[True] * 9 for i in range(9)]\n",
    "sub_boxes_available_list = [[True] * 9 for i in range(9)]"
   ]
  },
  {
   "cell_type": "markdown",
   "metadata": {},
   "source": [
    "Each value in `rows_available_list[i]` indicates whether a number has been used in this row. For example, if `rows_available_list[i][j]` is `True`, that means you can still fill an empty cell in row `i+1` with number `j+1` (index starts at 0), but if it is `False`, that means the number `j+1` has already been used in this row. This is similar for `cols_available_list`.\n",
    "\n",
    "For sub-boxes, the mapping relationship is a bit different. For cell `board[i][j]`, we check numbers' availability of this cell in `sub_boxes_available_list[i // 3 * 3 + j // 3]`.\n",
    "\n",
    "So, every time we take a step towards the solution, we should check whether this step satisfies all constraints. Suppose in this step, we fill cell `board[i][j]` with number `num`, we need make sure this number is available in the row, colomn, and the sub-box that the cell belongs:"
   ]
  },
  {
   "cell_type": "code",
   "execution_count": 1,
   "metadata": {},
   "outputs": [],
   "source": [
    "def check_availability(loc, num):\n",
    "    i, j = loc\n",
    "    index = num - 1\n",
    "    return rows_available_list[i][index] and cols_available_list[j][index] and sub_boxes_available_list[i // 3 * 3 + j // 3][index]"
   ]
  },
  {
   "cell_type": "markdown",
   "metadata": {},
   "source": [
    "Also, we need to write a function that updates those three constraint lists every time a step is taken towards the solution:"
   ]
  },
  {
   "cell_type": "code",
   "execution_count": 3,
   "metadata": {},
   "outputs": [],
   "source": [
    "def update_constraint_list(loc, num, set):\n",
    "    \"\"\"\n",
    "    loc: location of the cell\n",
    "    set: True if the num is going to fill this cell, False if the num is to be removed from this cell\n",
    "    \"\"\"\n",
    "    i, j = loc\n",
    "    index = num - 1\n",
    "    rows_available_list[i][index] = not set\n",
    "    cols_available_list[j][index] = not set\n",
    "    sub_boxes_available_list[i // 3 * 3 + j // 3][index] = not set"
   ]
  },
  {
   "cell_type": "markdown",
   "metadata": {},
   "source": [
    "Of course, the constraint lists should have their initial values based on those already filled cells in the original board. By iterating through the original board, we can also figure out which cells are still empty."
   ]
  },
  {
   "cell_type": "code",
   "execution_count": 6,
   "metadata": {},
   "outputs": [],
   "source": [
    "board = [\n",
    "    [\"5\", \"3\", \".\", \".\", \"7\", \".\", \".\", \".\", \".\"], \n",
    "    [\"6\", \".\", \".\", \"1\", \"9\", \"5\", \".\", \".\", \".\"], \n",
    "    [\".\", \"9\", \"8\", \".\", \".\", \".\", \".\", \"6\", \".\"], \n",
    "    [\"8\", \".\", \".\", \".\", \"6\", \".\", \".\", \".\", \"3\"], \n",
    "    [\"4\", \".\", \".\", \"8\", \".\", \"3\", \".\", \".\", \"1\"], \n",
    "    [\"7\", \".\", \".\", \".\", \"2\", \".\", \".\", \".\", \"6\"], \n",
    "    [\".\", \"6\", \".\", \".\", \".\", \".\", \"2\", \"8\", \".\"], \n",
    "    [\".\", \".\", \".\", \"4\", \"1\", \"9\", \".\", \".\", \"5\"], \n",
    "    [\".\", \".\", \".\", \".\", \"8\", \".\", \".\", \"7\", \"9\"]\n",
    "]\n",
    "\n",
    "empty_cell_list = []\n",
    "\n",
    "for i in range(9):\n",
    "    for j in range(9):\n",
    "        if board[i][j] != '.':\n",
    "            update_constraint_list((i, j), int(board[i][j]), True)\n",
    "        else:\n",
    "            empty_cell_list.append((i, j))"
   ]
  },
  {
   "cell_type": "markdown",
   "metadata": {},
   "source": [
    "Now, we are ready to write our solver with backtracking:"
   ]
  },
  {
   "cell_type": "code",
   "execution_count": 7,
   "metadata": {},
   "outputs": [],
   "source": [
    "def solver(vacant_list, cur):\n",
    "    if len(vacant_list) == cur:\n",
    "        # we filled all empty cells, meaning we found a solution\n",
    "        return True\n",
    "    i, j = vacant_list[cur]\n",
    "    for num in range(1, 10):\n",
    "        if check_availability(vacant_list[cur], num):\n",
    "            # take a step towards the solution\n",
    "            board[i][j] = str(num)\n",
    "            update_constraint_list((i, j), num, True)\n",
    "            res = solver(vacant_list, cur + 1) # the next step\n",
    "            if res:\n",
    "                # we found a solution\n",
    "                return True\n",
    "            else:\n",
    "                # we cannot find a solution after we take this step\n",
    "                # backtracking ---> take a step backward\n",
    "                board[i][j] = '.'\n",
    "                update_constraint_list((i, j), num, False)\n",
    "    return False"
   ]
  },
  {
   "cell_type": "markdown",
   "metadata": {},
   "source": [
    "Give it a test and check the output:"
   ]
  },
  {
   "cell_type": "code",
   "execution_count": 8,
   "metadata": {},
   "outputs": [
    {
     "name": "stdout",
     "output_type": "stream",
     "text": [
      "[['5', '3', '4', '6', '7', '8', '9', '1', '2'], ['6', '7', '2', '1', '9', '5', '3', '4', '8'], ['1', '9', '8', '3', '4', '2', '5', '6', '7'], ['8', '5', '9', '7', '6', '1', '4', '2', '3'], ['4', '2', '6', '8', '5', '3', '7', '9', '1'], ['7', '1', '3', '9', '2', '4', '8', '5', '6'], ['9', '6', '1', '5', '3', '7', '2', '8', '4'], ['2', '8', '7', '4', '1', '9', '6', '3', '5'], ['3', '4', '5', '2', '8', '6', '1', '7', '9']]\n"
     ]
    }
   ],
   "source": [
    "solver(empty_cell_list, 0)\n",
    "print(board)"
   ]
  }
 ],
 "metadata": {
  "interpreter": {
   "hash": "c731c829ab31928a746a1fbbd77dd192e2ed7d894b57af8c3222d1ec52f9620e"
  },
  "kernelspec": {
   "display_name": "Python 3.8.2 64-bit ('python3': venv)",
   "language": "python",
   "name": "python3"
  },
  "language_info": {
   "codemirror_mode": {
    "name": "ipython",
    "version": 3
   },
   "file_extension": ".py",
   "mimetype": "text/x-python",
   "name": "python",
   "nbconvert_exporter": "python",
   "pygments_lexer": "ipython3",
   "version": "3.8.10"
  },
  "orig_nbformat": 4
 },
 "nbformat": 4,
 "nbformat_minor": 2
}
