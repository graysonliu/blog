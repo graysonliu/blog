{
 "cells": [
  {
   "source": [
    "# Awesome Github Actions\n",
    "> Try Github Actions with Node.js and Python projects.\n",
    "\n",
    "- toc: false \n",
    "- badges: true\n",
    "- comments: true\n",
    "- categories: [github, node.js, python]"
   ],
   "cell_type": "markdown",
   "metadata": {}
  },
  {
   "source": [
    "{% raw %}"
   ],
   "cell_type": "markdown",
   "metadata": {}
  },
  {
   "source": [
    "## Deploy Github Pages with Github Actions"
   ],
   "cell_type": "markdown",
   "metadata": {}
  },
  {
   "source": [
    "Just weeks ago, I set up this blog with Jekyll on Github Pages. However, I switched to [fastpages](https://github.com/fastai/fastpages) because of Jupyter Notebook support. The swithcing isn't that difficult, but something caught my attention during the process, and that is [Github Actions](https://github.com/features/actions). We have talked about the idea that only pushing source files to the github repo and let Github Pages generate static files by its own. But Github Pages only supports Jekyll and limited number of plugins, and that is where Github Actions can help."
   ],
   "cell_type": "markdown",
   "metadata": {}
  },
  {
   "source": [
    "Basically, Github Actions is like a remote server that can execute some predifined commands. To use Github Actions to deploy our Github Pages, we still need to generate static files in our repo, but the generation can be done automatically by Github Actions, and generated files can be hosted in another branch other than master. Therefore, we can host all source files in the master branch, and every time we push commits to the master branch (e.g. new posts or modification of layouts), the predifined Github Actions workflow is triggered and it will automatically generate all necessary static files in another branch. We just need to change the repo's setting that decides which branch Github Pages site is built from."
   ],
   "cell_type": "markdown",
   "metadata": {}
  },
  {
   "source": [
    "Take [my homepage repo](https://github.com/graysonliu/graysonliu.github.io) as an example. I build it using React and Webpack from scratch. Webpack will generate static files in a folder called `dist`. This dist folder does not have to be in the master branch, but all files inside it should be the content of another branch called `gh-pages`, and the Github Pages is built from this branch."
   ],
   "cell_type": "markdown",
   "metadata": {}
  },
  {
   "source": [
    "There are existing Github Actions tools to help us achieve that for Github Pages. I chose the one that fastpages uses, which is [peaceiris/actions-gh-pages](https://github.com/peaceiris/actions-gh-pages). The usage is actually pretty straightforward, the entire workflow is as follows:\n",
    "```yaml\n",
    "name: build\n",
    "\n",
    "on:\n",
    "  push:\n",
    "    branches:\n",
    "      - master\n",
    "\n",
    "jobs:\n",
    "  deploy:\n",
    "    runs-on: ubuntu-18.04\n",
    "    steps:\n",
    "      - uses: actions/checkout@v2\n",
    "\n",
    "      - name: Setup Node\n",
    "        uses: actions/setup-node@v2.1.0\n",
    "        with:\n",
    "          node-version: '12.x'\n",
    "\n",
    "      - name: Cache dependencies\n",
    "        uses: actions/cache@v2\n",
    "        with:\n",
    "          path: ~/.npm\n",
    "          key: ${{ runner.os }}-node-${{ hashFiles('**/package-lock.json') }}\n",
    "          restore-keys: |\n",
    "            ${{ runner.os }}-node-\n",
    "      - run: npm ci\n",
    "      - run: npm run build\n",
    "\n",
    "      - name: Deploy\n",
    "        uses: peaceiris/actions-gh-pages@v3\n",
    "        with:\n",
    "          github_token: ${{ secrets.GITHUB_TOKEN }}\n",
    "          publish_dir: ./dist\n",
    "```"
   ],
   "cell_type": "markdown",
   "metadata": {}
  },
  {
   "source": [
    "At first, we give a name to the workflow, which is `build`. Then, we specify what will trigger this workflow:\n",
    "\n",
    "```yaml\n",
    "on:\n",
    "  push:\n",
    "    branches:\n",
    "      - master\n",
    "```\n",
    "That is, every time we push commits to the master branch, this workflow will be executed. Now, we define what actions are in this workflow. We first specify the operating system and setup Node.js of the version we want. The following action `actions/cache@v2` is to fetch all cached dependencies using `key`, or create the cache of all dependencies if the cache does not exist, so that the workflow does not need to download all dependencies again next time. In Linux, `npm` downloads all packages to `~/.npm`, which is the folder we need to cache. The `key` of the cache is named after the OS and the hashing result of `package-lock.json`, which is reasonable since these two will decide the packages that npm downloads."
   ],
   "cell_type": "markdown",
   "metadata": {}
  },
  {
   "source": [
    "Now, we run bash command `npm ci` to download all dependencies (if one dependency exists in cache, `npm` will just use the alreay downloaded package, while new dependencies will be downloaded from the Internet). Then, we run `npm run build` to generate all static files. In my [package.json](https://github.com/graysonliu/graysonliu.github.io/blob/master/package.json), `npm run build` will use Webpack to achieve that:\n",
    "```json\n",
    "{\n",
    "  ...\n",
    "  \"scripts\": {\n",
    "      \"start\": \"webpack-dev-server --mode development\",\n",
    "      \"build\": \"webpack  --mode production\"\n",
    "    }\n",
    "  ...\n",
    "}\n",
    "```\n",
    "Webpack generate all files in the `/dist` folder, and we should deploy all content in this folder to the branch `gh-pages`. That is excatly what `peaceiris/actions-gh-pages` does at last. As for `${{ secrets.GITHUB_TOKEN }}`, this is an automactically generated token by Github for authentication in the workflow, since this action needs to be authorized to write into our repository. We will find more usages of secrets in the next part."
   ],
   "cell_type": "markdown",
   "metadata": {}
  },
  {
   "source": [
    "{% endraw %}"
   ],
   "cell_type": "markdown",
   "metadata": {}
  }
 ],
 "metadata": {
  "kernelspec": {
   "display_name": "Python 3",
   "language": "python",
   "name": "python3"
  },
  "language_info": {
   "codemirror_mode": {
    "name": "ipython",
    "version": 3
   },
   "file_extension": ".py",
   "mimetype": "text/x-python",
   "name": "python",
   "nbconvert_exporter": "python",
   "pygments_lexer": "ipython3",
   "version": "3.6.7-final"
  }
 },
 "nbformat": 4,
 "nbformat_minor": 4
}