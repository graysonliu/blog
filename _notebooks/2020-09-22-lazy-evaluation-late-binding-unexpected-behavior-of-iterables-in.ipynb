{
 "metadata": {
  "language_info": {
   "codemirror_mode": {
    "name": "ipython",
    "version": 3
   },
   "file_extension": ".py",
   "mimetype": "text/x-python",
   "name": "python",
   "nbconvert_exporter": "python",
   "pygments_lexer": "ipython3",
   "version": "3.6.7-final"
  },
  "orig_nbformat": 2,
  "kernelspec": {
   "name": "python36764bit464d58f72dd04d45a027b5791dc8ef9f",
   "display_name": "Python 3.6.7 64-bit"
  }
 },
 "nbformat": 4,
 "nbformat_minor": 2,
 "cells": [
  {
   "source": [
    "# Lazy Evaluation & Late Binding: Unexpected Behavior of Iterables in\n",
    "\n",
    "- toc: false \n",
    "- badges: true\n",
    "- categories: [coding, python, iterator, lazy-evaluation, late-binding, leetcode, heap]\n",
    "- comments: true"
   ],
   "cell_type": "markdown",
   "metadata": {}
  },
  {
   "source": [
    "{% raw %}"
   ],
   "cell_type": "markdown",
   "metadata": {}
  },
  {
   "source": [
    "## Glossary\n",
    "`iterable` in Python: \n",
    "> An object capable of returning its members one at a time.\n",
    "\n",
    "Anything that can be used in a `for` loop, such as `list`, `tuple`, `str`, `dict`, `set` and iterators. We can convert an iterable to an iterator, which is actually what `for` statement does, by passing it to the built-in function `iter()`. \n",
    "\n",
    "`iterator` in Python:\n",
    "> An object representing a stream of data.\n",
    "\n",
    "It must have the `__next__()` method (or can be passed to the built-in function `next()`), such as generators, `map` objects."
   ],
   "cell_type": "markdown",
   "metadata": {}
  },
  {
   "source": [
    "## The Problem\n",
    "\n",
    "Recently, I've been practicing on [Leetcode](https://leetcode.com). In problem [373. Find K Pairs with Smallest Sums](https://leetcode.com/problems/find-k-pairs-with-smallest-sums/), I implemented a solution inspired by discussions in the community using `heapq.merge` in Python.\n",
    "\n",
    "The main idea of `heapq.merge` is like a multi-way merge sort on many already-sorted iterables. The difference is that `heapq.merge` uses a heap for ordering. Heap is just a binary tree in Python, and it is implemented with an array. `heapq.merge` initially collects the first element of each input iterable to form a list, then it `heapify` the list, transforming it to a heap. The first element of heap—`h[0]`, is always the smallest in the heap (supposing it is a min-heap). `heap.merge` just `pop` `h[0]` and puts it into the result iterator, and then `push` the following element of `h[0]` from the same input iterable into the heap (more details at [source code](https://github.com/python/cpython/blob/master/Lib/heapq.py#L314)). We can also use heap as a priority queue.\n",
    "\n",
    "The implemention is as follows:"
   ],
   "cell_type": "markdown",
   "metadata": {}
  },
  {
   "cell_type": "code",
   "execution_count": 1,
   "metadata": {},
   "outputs": [
    {
     "output_type": "stream",
     "name": "stdout",
     "text": [
      "[[11, 2], [11, 2], [11, 2], [11, 4], [11, 4], [11, 4], [11, 6], [11, 6], [11, 6]]\n"
     ]
    }
   ],
   "source": [
    "from typing import List\n",
    "import heapq, itertools\n",
    "\n",
    "def kSmallestPairs(nums1: List[int], nums2: List[int], k: int) -> List[List[int]]:\n",
    "    # we have m*n pairs, imagine a m*n matrix\n",
    "    rows = (([u, v] for v in nums2) for u in nums1)\n",
    "    # since both nums1 and nums2 are ascending\n",
    "    # each row is already sorted based on the sum of u and v\n",
    "\n",
    "    # regular slicing cannot be applied to generator since 'generator' object does not have __getitem__\n",
    "    # we should use itertools.islice\n",
    "    return list(itertools.islice(heapq.merge(*rows, key=sum), k))\n",
    "\n",
    "nums1=[1, 7, 11]\n",
    "nums2=[2, 4, 6]\n",
    "print(kSmallestPairs(nums1, nums2, k=9))"
   ]
  },
  {
   "source": [
    "`rows` is a generator of generators. We expect `k` pairs of smallest sums as the output, which should be:\n",
    "```python\n",
    "[[1, 2], [1, 4], [1, 6], [7, 2], [7, 4], [7, 6], [11, 2], [11, 4], [11, 6]]\n",
    "```\n",
    "But the output is not what we expected. Is something wrong with the generator? Try following code:"
   ],
   "cell_type": "markdown",
   "metadata": {}
  },
  {
   "cell_type": "code",
   "execution_count": 2,
   "metadata": {},
   "outputs": [
    {
     "output_type": "stream",
     "name": "stdout",
     "text": [
      "[1, 2] [1, 4] [1, 6] [7, 2] [7, 4] [7, 6] [11, 2] [11, 4] [11, 6] "
     ]
    }
   ],
   "source": [
    "rows = (([u, v] for v in nums2) for u in nums1)\n",
    "for row in rows:\n",
    "    for element in row:\n",
    "        print(element, end=' ')"
   ]
  },
  {
   "source": [
    "Surprisingly, the output is what we expect.\n",
    "\n",
    "## Lazy Evaluation\n",
    "\n",
    "We know that generators in Python are lazy evaluation. An element in a generator is only evaluated when we iterate to it. Most other objects in Python are eager evaluation:"
   ],
   "cell_type": "markdown",
   "metadata": {}
  },
  {
   "source": [
    "j = 1\n",
    "L = [j for _ in range(4)]  # list\n",
    "G = (j for _ in range(4))  # generator\n",
    "j = 2\n",
    "print(L)\n",
    "print(list(G))"
   ],
   "cell_type": "code",
   "metadata": {},
   "execution_count": 3,
   "outputs": [
    {
     "output_type": "stream",
     "name": "stdout",
     "text": [
      "[1, 1, 1, 1]\n[2, 2, 2, 2]\n"
     ]
    }
   ]
  },
  {
   "source": [
    "In above snippet, list `L` is evaluated when `j=1`, while generator `G` is not evaluated until we call `list(G)`, at that time `j=2`.\n",
    "\n",
    "Back to the generator `rows`, if we make it a list of generators instead of a generator of generators:"
   ],
   "cell_type": "markdown",
   "metadata": {}
  },
  {
   "cell_type": "code",
   "execution_count": 4,
   "metadata": {},
   "outputs": [
    {
     "output_type": "stream",
     "name": "stdout",
     "text": [
      "[11, 2] [11, 4] [11, 6] [11, 2] [11, 4] [11, 6] [11, 2] [11, 4] [11, 6] "
     ]
    }
   ],
   "source": [
    "rows = [([u, v] for v in nums2) for u in nums1]\n",
    "for row in rows:\n",
    "    for element in row:\n",
    "        print(element, end=' ')"
   ]
  },
  {
   "source": [
    "The output is different from when `rows` is a generator, but it is similar to the output of `heapq.merge`. The only difference is we did not sort the list as in `heapq.merge`.\n",
    "\n",
    "If we think about the evaluation mechanism, when we create `rows` as a list, since list is eager evaluation, `u` should be 11 after that line is executed. That is why when we iterate those three generators later, the first elements of all pairs are 11. When `rows` is a generator, since generators are lazy evaluation, the value of `u` only changes after we finish iterating each row.\n",
    "\n",
    "Back to `heapq.merge`, which is actually `heapq.merge(*iterables, key=None, reverse=False)`. The first parameter `iterables` becomes a tuple after it receives input iterables. We can easily check this by following snippet:"
   ],
   "cell_type": "markdown",
   "metadata": {}
  },
  {
   "cell_type": "code",
   "execution_count": 5,
   "metadata": {},
   "outputs": [
    {
     "output_type": "stream",
     "name": "stdout",
     "text": [
      "<class 'tuple'>\n[11, 2] [11, 4] [11, 6] [11, 2] [11, 4] [11, 6] [11, 2] [11, 4] [11, 6] "
     ]
    }
   ],
   "source": [
    "rows = (([u, v] for v in nums2) for u in nums1)\n",
    "\n",
    "def func(*iterables):\n",
    "    print(type(iterables))\n",
    "    for it in iterables:\n",
    "        for pair in it:\n",
    "            print(pair, end=' ')\n",
    "\n",
    "func(*rows)"
   ]
  },
  {
   "source": [
    "The output is the same as when `rows` is a list even if we pass `rows` as a generator. Because it is converted to a tuple in the function, and tuple is also eager evaluation just like list.\n",
    "\n",
    "However, even if `heapq.merge` does not convert `rows` to a tuple, we still cannot expect correct output. We mentioned before that `heapq.merge` initially collects the first element of each input iterable, considering following code:"
   ],
   "cell_type": "markdown",
   "metadata": {}
  },
  {
   "cell_type": "code",
   "execution_count": 6,
   "metadata": {},
   "outputs": [
    {
     "output_type": "stream",
     "name": "stdout",
     "text": [
      "[1, 2]\n[7, 4]\n[7, 2]\n[11, 6]\n[11, 4]\n[11, 2]\n"
     ]
    }
   ],
   "source": [
    "rows = (([u, v] for v in nums2) for u in nums1)\n",
    "it1 = next(rows)\n",
    "print(next(it1))  # [1, 2]\n",
    "it2 = next(rows)\n",
    "print(next(it1))  # [7, 4], we expect [1, 4] \n",
    "print(next(it2))  # [7, 2]\n",
    "it3 = next(rows)\n",
    "print(next(it1))  # [11, 6], we expect [1, 6] \n",
    "print(next(it2))  # [11, 4], we expect [7, 4]\n",
    "print(next(it3))  # [11, 2]"
   ]
  },
  {
   "source": [
    "We find that every time we call `next(rows)`, the value of `u` changes. Thus, even if `heapq.merge` dose not convert `rows` to a tuple, we can only guarantee correct pairs for the first element in each generator. After that, the first value of all subsequent pairs will be the same.\n",
    "\n",
    "## Solution\n",
    "\n",
    "The correct way to solve the above problem is to make `rows` a `map` object:"
   ],
   "cell_type": "markdown",
   "metadata": {}
  },
  {
   "cell_type": "code",
   "execution_count": 7,
   "metadata": {},
   "outputs": [
    {
     "output_type": "stream",
     "name": "stdout",
     "text": [
      "[[1, 2], [1, 4], [1, 6], [7, 2], [7, 4], [7, 6], [11, 2], [11, 4], [11, 6]]\n"
     ]
    }
   ],
   "source": [
    "rows = map(lambda u: ([u, v] for v in nums2), nums1)\n",
    "print(list(heapq.merge(*rows, key=sum)))\n",
    "# [[1, 2], [1, 4], [1, 6], [7, 2], [7, 4], [7, 6], [11, 2], [11, 4], [11, 6]]"
   ]
  },
  {
   "source": [
    "This `map` object is also converted to a tuple when passing to `heapq.merge`, however, it gives us correct result. `map` objects are iterators, using lazy evaluation just like generators. The difference here is that this uses a function to create three generators. **That `u` here is a parameter of the lambda function, not a single variable that holds the value of an element in `nums1`, and this function will be called three times with different values passed in.** Therefore, this actually has nothing to do with `map`. It really depends on what `u` is. If we define `rows` as follows, we can also get the correct output:"
   ],
   "cell_type": "markdown",
   "metadata": {}
  },
  {
   "cell_type": "code",
   "execution_count": 8,
   "metadata": {},
   "outputs": [
    {
     "output_type": "stream",
     "name": "stdout",
     "text": [
      "[[1, 2], [1, 4], [1, 6], [7, 2], [7, 4], [7, 6], [11, 2], [11, 4], [11, 6]]\n"
     ]
    }
   ],
   "source": [
    "rows = ((lambda u: ([u, v] for v in nums2))(k) for k in nums1)\n",
    "print(list(heapq.merge(*rows, key=sum)))"
   ]
  },
  {
   "cell_type": "code",
   "execution_count": 9,
   "metadata": {},
   "outputs": [
    {
     "output_type": "stream",
     "name": "stdout",
     "text": [
      "[[1, 2], [1, 4], [1, 6], [7, 2], [7, 4], [7, 6], [11, 2], [11, 4], [11, 6]]\n"
     ]
    }
   ],
   "source": [
    "rows = [(lambda u: ([u, v] for v in nums2))(k) for k in nums1]\n",
    "print(list(heapq.merge(*rows, key=sum)))"
   ]
  },
  {
   "source": [
    "We replaced `u` with `k`, which holds the value of the element currently being iterated in `nums1`, to make the structure more clear. However, this is not necessary since even if we use `u` to iterate `nums1`, in the lambda function, `u` will be overwritten by the parameter `u` of the function.\n",
    "\n",
    "To better understand how this `u` affects the output, we can also use lambda expressions to write the equivalents of previous definitions of `rows` that give us incorrect results:\n",
    "\n",
    "```python\n",
    "rows = (([u, v] for v in nums2) for u in nums1)\n",
    "# is equivalent to\n",
    "rows = ((lambda: ([u, v] for v in nums2))() for u in nums1)\n",
    "\n",
    "rows = [([u, v] for v in nums2) for u in nums1]\n",
    "# is equivalent to\n",
    "rows = [(lambda: ([u, v] for v in nums2))() for u in nums1]\n",
    "```\n",
    "\n",
    "## Late Binding\n",
    "\n",
    "I also want to mention late binding here because it usually leads to unexpected behavior in Python, though not specifically limited to iterables. According to [Wikipedia](https://en.wikipedia.org/wiki/Late_binding):\n",
    "> Late binding, dynamic binding, or dynamic linkage is a computer programming mechanism in which the method being called upon an object or the function being called with arguments is looked up by name at runtime.\n",
    "\n",
    "There is a good [article](https://docs.python-guide.org/writing/gotchas/#late-binding-closures) talking about late binding in Python. We will use some snippets to figure out how late binding works."
   ],
   "cell_type": "markdown",
   "metadata": {}
  },
  {
   "cell_type": "code",
   "execution_count": 10,
   "metadata": {},
   "outputs": [
    {
     "output_type": "stream",
     "name": "stdout",
     "text": [
      "4 4 4 4 4 "
     ]
    }
   ],
   "source": [
    "funcs = [lambda: u for u in range(5)]\n",
    "for func in funcs:\n",
    "    print(func(), end=' ')"
   ]
  },
  {
   "source": [
    "The output again is a repeat of the last element of `range(5)`. We defined `funcs`, which is a list of 5 functions. Each function does not accept any parameters and returns `u`, which holds the value of the element being iterated in `range(5)`. These functions are not called until we enter the following `for` loop and use `func()`. \n",
    "\n",
    "**Late binding means that values of variables used in a function are looked up at the time the function is called.** When we call those five functions in `funcs`, they will all look up the value of `u`, which becomes `4` after we define `funcs`, because `funcs`, which is a list, use eager evaluation. However, if we define `funcs` as generators, the output becomes what we expect:"
   ],
   "cell_type": "markdown",
   "metadata": {}
  },
  {
   "cell_type": "code",
   "execution_count": 11,
   "metadata": {},
   "outputs": [
    {
     "output_type": "stream",
     "name": "stdout",
     "text": [
      "0 1 2 3 4 "
     ]
    }
   ],
   "source": [
    "funcs = (lambda: u for u in range(5))\n",
    "for func in funcs:\n",
    "    print(func(), end=' ')"
   ]
  },
  {
   "source": [
    "This is obvious since generators use lazy evaluation. The value of `u` changes along the `for` loop.\n",
    "\n",
    "Another example of late binding without iterables:"
   ],
   "cell_type": "markdown",
   "metadata": {}
  },
  {
   "cell_type": "code",
   "execution_count": 12,
   "metadata": {},
   "outputs": [
    {
     "output_type": "stream",
     "name": "stdout",
     "text": [
      "2\n"
     ]
    }
   ],
   "source": [
    "i = 1\n",
    "def func():\n",
    "    return i\n",
    "i = 2\n",
    "print(func())"
   ]
  },
  {
   "source": [
    "{% endraw %}"
   ],
   "cell_type": "markdown",
   "metadata": {}
  }
 ]
}